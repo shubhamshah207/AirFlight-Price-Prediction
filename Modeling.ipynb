{
 "cells": [
  {
   "cell_type": "markdown",
   "metadata": {},
   "source": [
    "### Open Notebook in Colab\n",
    "[![Colab](https://colab.research.google.com/assets/colab-badge.svg)](https://colab.research.google.com/github/shubhamshah207/AirFlight-Price-Prediction/blob/main/Modeling.ipynb)"
   ]
  },
  {
   "cell_type": "code",
   "execution_count": null,
   "metadata": {},
   "outputs": [],
   "source": [
    "import pandas as pd"
   ]
  },
  {
   "cell_type": "code",
   "execution_count": 48,
   "metadata": {},
   "outputs": [],
   "source": [
    "df = pd.read_csv('./data/final_2020.csv')\n",
    "# df = pd.read_csv('./data/random100000.csv')"
   ]
  },
  {
   "cell_type": "code",
   "execution_count": 49,
   "metadata": {},
   "outputs": [
    {
     "data": {
      "text/plain": [
       "1828375"
      ]
     },
     "execution_count": 49,
     "metadata": {},
     "output_type": "execute_result"
    }
   ],
   "source": [
    "df['AIRLINE_COMPANY'].value_counts()[0]"
   ]
  },
  {
   "cell_type": "markdown",
   "metadata": {},
   "source": [
    "***We are only considering the airlines which are having sufficient data so filtering the dataframe***"
   ]
  },
  {
   "cell_type": "code",
   "execution_count": 50,
   "metadata": {},
   "outputs": [],
   "source": [
    "airline_vals = ['WN','AA','DL','UA','AS','B6','NK','G4']\n",
    "airlines = ['WN','AA','DL','UA','AS','B6','NK','G4']"
   ]
  },
  {
   "cell_type": "code",
   "execution_count": 51,
   "metadata": {},
   "outputs": [],
   "source": [
    "df = df[df['AIRLINE_COMPANY'].isin(airlines)]"
   ]
  },
  {
   "cell_type": "code",
   "execution_count": 52,
   "metadata": {},
   "outputs": [
    {
     "data": {
      "text/plain": [
       "Index(['ITIN_ID', 'MARKET_COUPONS', 'QUARTER', 'ORIGIN', 'ORIGIN_WAC', 'DEST',\n",
       "       'DEST_WAC', 'AIRPORT_GROUP', 'WAC_GROUP', 'DISTANCE_GROUP', 'MILES',\n",
       "       'CONTINUE_USA', 'NUM_OF_TICKETS', 'AIRLINE_COMPANY',\n",
       "       'PRICE_PER_TICKET'],\n",
       "      dtype='object')"
      ]
     },
     "execution_count": 52,
     "metadata": {},
     "output_type": "execute_result"
    }
   ],
   "source": [
    "df.columns"
   ]
  },
  {
   "cell_type": "markdown",
   "metadata": {},
   "source": []
  },
  {
   "cell_type": "markdown",
   "metadata": {},
   "source": [
    "***Splitting the data into two parts one for training and one for testing.***"
   ]
  },
  {
   "cell_type": "code",
   "execution_count": 53,
   "metadata": {},
   "outputs": [],
   "source": [
    "from sklearn.model_selection import train_test_split\n",
    "from sklearn.linear_model import LinearRegression\n",
    "from sklearn.metrics import r2_score\n",
    "features = ['MARKET_COUPONS', 'QUARTER', 'ORIGIN', 'DEST', 'MILES', 'NUM_OF_TICKETS', 'AIRLINE_COMPANY']\n",
    "X = df[features]\n",
    "Y = df['PRICE_PER_TICKET']"
   ]
  },
  {
   "cell_type": "code",
   "execution_count": 54,
   "metadata": {},
   "outputs": [],
   "source": [
    "X_train, X_test, Y_train, Y_test = train_test_split(X, Y, test_size=0.2,random_state=99)"
   ]
  },
  {
   "cell_type": "code",
   "execution_count": 55,
   "metadata": {},
   "outputs": [
    {
     "data": {
      "text/plain": [
       "LinearRegression()"
      ]
     },
     "execution_count": 55,
     "metadata": {},
     "output_type": "execute_result"
    }
   ],
   "source": [
    "from sklearn import linear_model\n",
    "from sklearn.metrics import mean_squared_error, r2_score\n",
    "from category_encoders import OrdinalEncoder\n",
    "\n",
    "encoder = OrdinalEncoder()\n",
    "X_train_encoded = encoder.fit_transform(X_train)\n",
    "X_test_encoded = encoder.fit_transform(X_test)\n",
    "model = linear_model.LinearRegression()\n",
    "model.fit(X_train_encoded, Y_train)\n"
   ]
  },
  {
   "cell_type": "markdown",
   "metadata": {},
   "source": [
    "***As Mean squared error is very high in Liner regression, we will not be considering that model.***"
   ]
  },
  {
   "cell_type": "code",
   "execution_count": 56,
   "metadata": {},
   "outputs": [
    {
     "data": {
      "text/plain": [
       "Pipeline(steps=[('ordinalencoder',\n",
       "                 OrdinalEncoder(cols=['ORIGIN', 'DEST', 'AIRLINE_COMPANY'],\n",
       "                                mapping=[{'col': 'ORIGIN',\n",
       "                                          'data_type': dtype('O'),\n",
       "                                          'mapping': ECP      1\n",
       "MKE      2\n",
       "MDW      3\n",
       "MSP      4\n",
       "IAH      5\n",
       "      ... \n",
       "LAR    294\n",
       "PIR    295\n",
       "RKS    296\n",
       "ATY    297\n",
       "NaN     -2\n",
       "Length: 298, dtype: int64},\n",
       "                                         {'col': 'DEST',\n",
       "                                          'data_type': dtype('O'),\n",
       "                                          'mapping': SAT      1\n",
       "BNA      2\n",
       "ATL      3\n",
       "SNA      4\n",
       "SFO      5\n",
       "      ... \n",
       "ATY    296\n",
       "PRC    297\n",
       "CMX    298\n",
       "CMI    299\n",
       "NaN     -2\n",
       "Length: 300, dtype: int64},\n",
       "                                         {'col': 'AIRLINE_COMPANY',\n",
       "                                          'data_type': dtype('O'),\n",
       "                                          'mapping': WN     1\n",
       "DL     2\n",
       "UA     3\n",
       "AS     4\n",
       "AA     5\n",
       "NK     6\n",
       "B6     7\n",
       "G4     8\n",
       "NaN   -2\n",
       "dtype: int64}])),\n",
       "                ('randomforestregressor',\n",
       "                 RandomForestRegressor(max_depth=20, n_estimators=20))])"
      ]
     },
     "execution_count": 56,
     "metadata": {},
     "output_type": "execute_result"
    }
   ],
   "source": [
    "from sklearn.pipeline import make_pipeline\n",
    "from category_encoders import TargetEncoder\n",
    "from category_encoders import OrdinalEncoder\n",
    "from sklearn.ensemble import RandomForestRegressor\n",
    "\n",
    "pipeline = make_pipeline(\n",
    "    OrdinalEncoder(),\n",
    "    RandomForestRegressor(max_depth=20, n_estimators=20)\n",
    ")\n",
    "\n",
    "pipeline.fit(X_train, Y_train)"
   ]
  },
  {
   "cell_type": "code",
   "execution_count": 57,
   "metadata": {},
   "outputs": [
    {
     "data": {
      "image/png": "[encoded data removed]",
      "text/plain": [
       "<Figure size 720x432 with 1 Axes>"
      ]
     },
     "metadata": {},
     "output_type": "display_data"
    }
   ],
   "source": [
    "model = pipeline.named_steps['randomforestregressor']\n",
    "importances = pd.Series(model.feature_importances_, list(X.columns))\n",
    "\n",
    "# Plot feature importances\n",
    "%matplotlib inline\n",
    "import matplotlib.pyplot as plt\n",
    "\n",
    "fig, ax = plt.subplots(figsize=(10,6), facecolor = '#f0faf3')\n",
    "ax.set(facecolor='#b4b4b4')\n",
    "#plt.title('Feature Importances for 2018 Flights Data (Target: PricePerTicket)')\n",
    "n=12\n",
    "importances.sort_values()[-n:].plot.barh(color='#24ccff');"
   ]
  },
  {
   "cell_type": "code",
   "execution_count": 58,
   "metadata": {},
   "outputs": [],
   "source": [
    "import pickle\n",
    "filename = './model/finalized_model_small.sav'\n",
    "pickle.dump(model, open(filename, 'wb'))"
   ]
  },
  {
   "cell_type": "code",
   "execution_count": 59,
   "metadata": {},
   "outputs": [],
   "source": [
    "loaded_model = pickle.load(open(filename, 'rb'))\n",
    "result = loaded_model.score(X_test_encoded, Y_test)"
   ]
  },
  {
   "cell_type": "code",
   "execution_count": 60,
   "metadata": {},
   "outputs": [
    {
     "data": {
      "text/plain": [
       "0.2805790145558964"
      ]
     },
     "execution_count": 60,
     "metadata": {},
     "output_type": "execute_result"
    }
   ],
   "source": [
    "result"
   ]
  },
  {
   "cell_type": "code",
   "execution_count": 61,
   "metadata": {},
   "outputs": [
    {
     "name": "stdout",
     "output_type": "stream",
     "text": [
      "RandomForest R^2 Score =  0.038328176745044296\n"
     ]
    }
   ],
   "source": [
    "from sklearn.metrics import r2_score\n",
    "y_pred = pipeline.predict(X_test_encoded)\n",
    "print('RandomForest R^2 Score = ', r2_score(Y_test, y_pred))"
   ]
  },
  {
   "cell_type": "markdown",
   "metadata": {},
   "source": [
    "***As you can see r square score is less for random forest we will be finalizing that model***"
   ]
  },
  {
   "cell_type": "code",
   "execution_count": 62,
   "metadata": {},
   "outputs": [
    {
     "data": {
      "text/plain": [
       "MARKET_COUPONS     0.030261\n",
       "DEST               0.066745\n",
       "ORIGIN             0.068155\n",
       "NUM_OF_TICKETS     0.074972\n",
       "QUARTER            0.143761\n",
       "AIRLINE_COMPANY    0.245202\n",
       "MILES              0.370903\n",
       "dtype: float64"
      ]
     },
     "execution_count": 62,
     "metadata": {},
     "output_type": "execute_result"
    }
   ],
   "source": [
    "importances.sort_values()[-n:]"
   ]
  },
  {
   "cell_type": "code",
   "execution_count": 63,
   "metadata": {},
   "outputs": [],
   "source": [
    "importances = importances.sort_values()[-n:].index"
   ]
  },
  {
   "cell_type": "code",
   "execution_count": 64,
   "metadata": {},
   "outputs": [],
   "source": [
    "pipeline_encoder = pipeline.named_steps['ordinalencoder']\n",
    "mapping = pipeline_encoder.mapping\n",
    "\n",
    "origin_dict = dict(mapping[0])\n",
    "dest_dict = mapping[1]\n",
    "airline_dict = mapping[2]"
   ]
  },
  {
   "cell_type": "code",
   "execution_count": 65,
   "metadata": {},
   "outputs": [],
   "source": [
    "airline_dict[\"mapping\"].to_csv(\"./LookupFiles/airline_dict.csv\")"
   ]
  },
  {
   "cell_type": "code",
   "execution_count": 66,
   "metadata": {},
   "outputs": [],
   "source": [
    "dest_dict[\"mapping\"].to_csv(\"./LookupFiles/dest_dict.csv\")"
   ]
  },
  {
   "cell_type": "code",
   "execution_count": 67,
   "metadata": {},
   "outputs": [],
   "source": [
    "origin_dict[\"mapping\"].to_csv(\"./LookupFiles/origin_dict.csv\")"
   ]
  },
  {
   "cell_type": "code",
   "execution_count": 68,
   "metadata": {},
   "outputs": [],
   "source": [
    "origin_dict = pd.read_csv(\"./LookupFiles/origin_dict.csv\").set_index('Unnamed: 0')\n",
    "dest_dict = pd.read_csv(\"./LookupFiles/dest_dict.csv\").set_index('Unnamed: 0')\n",
    "airline_dict = pd.read_csv(\"./LookupFiles/airline_dict.csv\").set_index('Unnamed: 0')"
   ]
  },
  {
   "cell_type": "code",
   "execution_count": 69,
   "metadata": {},
   "outputs": [
    {
     "data": {
      "text/plain": [
       "1"
      ]
     },
     "execution_count": 69,
     "metadata": {},
     "output_type": "execute_result"
    }
   ],
   "source": [
    "origin_dict.loc['ECP', '0']"
   ]
  },
  {
   "cell_type": "code",
   "execution_count": 70,
   "metadata": {},
   "outputs": [
    {
     "name": "stdout",
     "output_type": "stream",
     "text": [
      "C:\\Users\\Shubham Shah/data\n"
     ]
    }
   ],
   "source": [
    "import os\n",
    "download_path = os.path.expanduser('~/data')\n",
    "print(download_path)\n"
   ]
  },
  {
   "cell_type": "code",
   "execution_count": null,
   "metadata": {},
   "outputs": [],
   "source": []
  }
 ],
 "metadata": {
  "kernelspec": {
   "display_name": "Python 3",
   "language": "python",
   "name": "python3"
  },
  "language_info": {
   "codemirror_mode": {
    "name": "ipython",
    "version": 3
   },
   "file_extension": ".py",
   "mimetype": "text/x-python",
   "name": "python",
   "nbconvert_exporter": "python",
   "pygments_lexer": "ipython3",
   "version": "3.8.5"
  }
 },
 "nbformat": 4,
 "nbformat_minor": 4
}
